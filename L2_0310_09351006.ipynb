{
 "cells": [
  {
   "cell_type": "markdown",
   "metadata": {},
   "source": [
    "# Debug 如下：\n",
    "刪除原本\"&\"前方之程式碼"
   ]
  },
  {
   "cell_type": "code",
   "execution_count": null,
   "metadata": {},
   "outputs": [],
   "source": [
    "score = eval(input(\"請輸入總成績....\"))\n",
    "if score >= 90:\n",
    "    print('A')\n",
    "elif score >= 80:\n",
    "    print('B')\n",
    "elif  score >= 70:\n",
    "    print('C')\n",
    "elif  score <= 60:\n",
    "    print('D')\n",
    "else:\n",
    "    print('E')"
   ]
  },
  {
   "cell_type": "markdown",
   "metadata": {},
   "source": [
    "i數到n-1"
   ]
  },
  {
   "cell_type": "code",
   "execution_count": null,
   "metadata": {},
   "outputs": [],
   "source": [
    "for i in range(5):\n",
    "    print(i)"
   ]
  },
  {
   "cell_type": "code",
   "execution_count": null,
   "metadata": {},
   "outputs": [],
   "source": [
    "print('九九乘法表......\\n')\n",
    "for i in range(1,10):\n",
    "    print ('\\n\\n'+str(i)+'...\\n')\n",
    "    for j in range(1,10):\n",
    "        num=i*j\n",
    "        print(str(i)+'*'+str(j)+'='+str(num))\n",
    "print('\\n 執行完畢...\\n')"
   ]
  },
  {
   "cell_type": "markdown",
   "metadata": {},
   "source": [
    "help(len) 查詢程式碼意思"
   ]
  },
  {
   "cell_type": "markdown",
   "metadata": {},
   "source": [
    "** 平方倍"
   ]
  },
  {
   "cell_type": "markdown",
   "metadata": {},
   "source": [
    "### Exercises1"
   ]
  },
  {
   "cell_type": "code",
   "execution_count": null,
   "metadata": {},
   "outputs": [],
   "source": [
    "speed = eval(input(\"input your speed：\"))\n",
    "if speed >= 80:\n",
    "    print('Big Ticket')\n",
    "elif speed >= 60:\n",
    "    print('Small Ticket')\n",
    "else:\n",
    "    print('No Ticket')"
   ]
  },
  {
   "cell_type": "markdown",
   "metadata": {},
   "source": []
  },
  {
   "cell_type": "markdown",
   "metadata": {},
   "source": [
    "### Exercises2"
   ]
  },
  {
   "cell_type": "code",
   "execution_count": null,
   "metadata": {},
   "outputs": [],
   "source": [
    "def isPrime(n):\n",
    "    for i in range(2,n):\n",
    "        if n%i==0:\n",
    "            return False   \n",
    "    return True\n",
    "\n",
    "n= int(input(\"Input a positive real number:\"))\n",
    "if isPrime(n):\n",
    "    print(\"True,\",n,\"是質數\")\n",
    "else:\n",
    "    print(\"False,\",n,\"不是質數\")\n",
    "    "
   ]
  },
  {
   "cell_type": "markdown",
   "metadata": {},
   "source": [
    "### Exercises3"
   ]
  },
  {
   "cell_type": "code",
   "execution_count": 3,
   "metadata": {},
   "outputs": [
    {
     "name": "stdout",
     "output_type": "stream",
     "text": [
      "Please enter your password:1234\n",
      "你輸入的密碼正確\n"
     ]
    }
   ],
   "source": [
    "password= int(input(\"Please enter your password:\"))\n",
    "if password==1234:\n",
    "    print(\"你輸入的密碼正確\")\n",
    "else:\n",
    "    print(\"你輸入的密碼錯誤\")"
   ]
  },
  {
   "cell_type": "code",
   "execution_count": null,
   "metadata": {},
   "outputs": [],
   "source": []
  }
 ],
 "metadata": {
  "kernelspec": {
   "display_name": "Python 3",
   "language": "python",
   "name": "python3"
  },
  "language_info": {
   "codemirror_mode": {
    "name": "ipython",
    "version": 3
   },
   "file_extension": ".py",
   "mimetype": "text/x-python",
   "name": "python",
   "nbconvert_exporter": "python",
   "pygments_lexer": "ipython3",
   "version": "3.7.3"
  }
 },
 "nbformat": 4,
 "nbformat_minor": 2
}
